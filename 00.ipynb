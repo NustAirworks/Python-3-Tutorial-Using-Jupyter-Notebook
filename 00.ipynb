{
 "cells": [
  {
   "cell_type": "markdown",
   "metadata": {},
   "source": [
    "# Python-Lectures\n",
    "### NUST Air Works\n",
    "https://www.nustairworks.com"
   ]
  },
  {
   "cell_type": "markdown",
   "metadata": {},
   "source": [
    "## Introduction"
   ]
  },
  {
   "cell_type": "markdown",
   "metadata": {},
   "source": [
    "Python is a modern, robust, high level programming language. It is very easy to pick up even if you are completely new to programming."
   ]
  },
  {
   "cell_type": "markdown",
   "metadata": {},
   "source": [
    "## Installation"
   ]
  },
  {
   "cell_type": "markdown",
   "metadata": {},
   "source": [
    "Mac OS X and Linux comes pre installed with python. Windows users can download python from https://www.python.org/downloads/ .\n",
    "\n",
    "To install Python, simply just run the executable. Make sure the version you download has to be Python 3.x"
   ]
  },
  {
   "cell_type": "markdown",
   "metadata": {},
   "source": [
    "## OR"
   ]
  },
  {
   "cell_type": "markdown",
   "metadata": {},
   "source": [
    "### Installation from unofficial distributions"
   ]
  },
  {
   "cell_type": "markdown",
   "metadata": {},
   "source": [
    "Installing all the necessary libraries might prove troublesome. Anaconda and Canopy comes pre packaged with all the necessary python libraries."
   ]
  },
  {
   "cell_type": "markdown",
   "metadata": {},
   "source": [
    "#### Anaconda"
   ]
  },
  {
   "cell_type": "markdown",
   "metadata": {},
   "source": [
    "Download Anaconda from https://www.continuum.io/downloads\n",
    "\n",
    "Anaconda is completely free and includes more than 300 python packages. Both python 2.7 and 3.4 options are available."
   ]
  },
  {
   "cell_type": "markdown",
   "metadata": {},
   "source": [
    "#### Canopy"
   ]
  },
  {
   "cell_type": "markdown",
   "metadata": {},
   "source": [
    "Download Canopy from https://store.enthought.com/downloads/#default\n",
    "\n",
    "Canopy has a premium version which offers 300+ python packages. But the free version works just fine. Canopy as of now supports only 2.7 but it comes with its own text editor."
   ]
  },
  {
   "cell_type": "markdown",
   "metadata": {},
   "source": [
    "### Run CMD"
   ]
  },
  {
   "cell_type": "markdown",
   "metadata": {},
   "source": [
    "When you have opened the CMD/Powershell, run python command. If you see something like this:\n",
    "\n",
    "![title](../cmd_python.png)\n",
    "\n",
    "The you have successfully installed Python and have entered the environment.\n",
    "\n",
    "Now enter CTRL+Z to exit Python environment to install few libraries. Run following command:\n",
    "- pip install numpy, matplotlib, pandas\n",
    "- pip install jupyter\n",
    "\n",
    "This is done to install few important dependencies and API(s) to make coding easier just to ensure that our focus is on logic creation not on the syntax (primary reason to use Python in the first place)."
   ]
  },
  {
   "cell_type": "markdown",
   "metadata": {},
   "source": [
    "### Open Jupyter Notebook"
   ]
  },
  {
   "cell_type": "markdown",
   "metadata": {},
   "source": [
    "Jupyter Notebook is a well known, reliable and preferred Python Environment. These documents you are seeing are all created on Jupyter Notebook. In order to run it, open new CMD and run command:\n",
    "- jupyter notebook\n",
    "\n",
    "And wait a while!\n",
    "A browser should open with jupyter notebook loaded fully."
   ]
  },
  {
   "cell_type": "markdown",
   "metadata": {},
   "source": [
    "## License"
   ]
  },
  {
   "cell_type": "markdown",
   "metadata": {},
   "source": [
    "This work is licensed under a Creative Commons Attribution-NonCommercial 4.0 International License.\n",
    "http://creativecommons.org/licenses/by-nc/4.0/"
   ]
  },
  {
   "cell_type": "code",
   "execution_count": null,
   "metadata": {},
   "outputs": [],
   "source": []
  }
 ],
 "metadata": {
  "kernelspec": {
   "display_name": "Python 3",
   "language": "python",
   "name": "python3"
  },
  "language_info": {
   "codemirror_mode": {
    "name": "ipython",
    "version": 3
   },
   "file_extension": ".py",
   "mimetype": "text/x-python",
   "name": "python",
   "nbconvert_exporter": "python",
   "pygments_lexer": "ipython3",
   "version": "3.6.2"
  }
 },
 "nbformat": 4,
 "nbformat_minor": 1
}
