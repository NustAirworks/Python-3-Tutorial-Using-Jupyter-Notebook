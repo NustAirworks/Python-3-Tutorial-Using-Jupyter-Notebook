{
 "cells": [
  {
   "cell_type": "markdown",
   "metadata": {},
   "source": [
    "# Image Processing\n",
    "It is a technique used for the analysis of an image in order to manipulate it and extract information from it."
   ]
  },
  {
   "cell_type": "markdown",
   "metadata": {},
   "source": [
    "<img src=\"data/im1.png\" width=\"600\">\n",
    "<img src=\"data/im2.PNG\" width=\"600\">\n",
    "<img src=\"data/im3.png\" width=\"1000\">"
   ]
  },
  {
   "cell_type": "markdown",
   "metadata": {},
   "source": [
    "### What is the purpose of image processing?\n",
    "- <b>Visualization</b> - Observe the objects that are not visible.\n",
    "- <b>Image Sharpening and Restoration</b> - To create a better image.\n",
    "- <b>Image Retrieval</b> - Seek for the image of interest.\n",
    "- <b>Measurement of Pattern</b> - Measures various objects in an image.\n",
    "- <b>Image Recognition</b> - Distinguish the objects in an image."
   ]
  },
  {
   "cell_type": "markdown",
   "metadata": {},
   "source": [
    "### Python can do this all!\n",
    "Is there anything that Python can't do. You have to be kidding me!\n",
    "\n",
    "**OpenCV is a Open-source computer vision** library available for multiple platforms including C++.\n",
    "But first let's take a sneek peek at code of C++ I used for simplistic image processing task.\n",
    "<img src=\"data/c++.PNG\" width=\"2000\">\n",
    "\n",
    "**Too many words, the hell with this shit!**\n",
    "It literally took me two months to actually learn to code this, with clear concepts of course. Plus it's tedious to set up the libraries and do the required configurations before you can write the actual code. If you do really want to check that out though, I have maintained a journal containing core code concepts for C++ to use with OpenCV."
   ]
  },
  {
   "cell_type": "markdown",
   "metadata": {},
   "source": [
    "### Moving forward with Python\n",
    "Yes, people may claim why Python when much faster language exists that can process images way faster. I ask them, even if it is faster is it faster to debug them or write the code and not get stuck with the grammar of it?\n",
    "\n",
    "**Disclaimer:** If you are hating C++ right at this instant, Python is built on C++.\n",
    "***So***\n",
    "<img src=\"data/haters.gif\" width=\"500\">\n",
    "***C++ is going nowhere!***"
   ]
  },
  {
   "cell_type": "markdown",
   "metadata": {},
   "source": [
    "### Installing OpenCV on Python\n",
    "OpenCV doesn't have an official pre-compiled package solution available on either Windows, Mac, or on Linux. \n",
    "<img src=\"data/tenor.gif\" width=\"200\">\n",
    "\n",
    "But don't you worry, this site: https://www.lfd.uci.edu/~gohlke/pythonlibs/#opencv has the solution. Some people are heavenly and they will go straight to ***Jana'ah***. These people have compiled the package for Windows and provided the complete solution. The download will be a **.whl** file. Choose appropriate version according to your Python version and your processor (32-bit or 64-bit).\n",
    "\n",
    "Open CMD and go to directory where the downloaded file is present and install in this way:\n",
    "- pip install \"opencv_python‑3.4.3‑cp36‑cp36m‑win_amd64.whl\"\n",
    "\n",
    "### And now let's code"
   ]
  },
  {
   "cell_type": "code",
   "execution_count": 4,
   "metadata": {},
   "outputs": [],
   "source": [
    "import cv2\n",
    "import numpy as np\n",
    "import matplotlib.pyplot as plt\n",
    "% matplotlib inline"
   ]
  },
  {
   "cell_type": "code",
   "execution_count": 10,
   "metadata": {},
   "outputs": [
    {
     "data": {
      "text/plain": [
       "<matplotlib.image.AxesImage at 0x24da272a4a8>"
      ]
     },
     "execution_count": 10,
     "metadata": {},
     "output_type": "execute_result"
    },
    {
     "data": {
      "image/png": "[encoded data removed]",
      "text/plain": [
       "<Figure size 432x288 with 1 Axes>"
      ]
     },
     "metadata": {},
     "output_type": "display_data"
    }
   ],
   "source": [
    "# Read the image\n",
    "im = cv2.imread('samples/1 (1).png')\n",
    "# Display the original image\n",
    "plt.imshow(im)"
   ]
  },
  {
   "cell_type": "markdown",
   "metadata": {},
   "source": [
    "#### Processing the original image\n",
    "original -> BGR to gray -> resizing -> display"
   ]
  },
  {
   "cell_type": "code",
   "execution_count": 11,
   "metadata": {},
   "outputs": [
    {
     "data": {
      "text/plain": [
       "<matplotlib.image.AxesImage at 0x24da2787c88>"
      ]
     },
     "execution_count": 11,
     "metadata": {},
     "output_type": "execute_result"
    },
    {
     "data": {
      "image/png": "[encoded data removed]",
      "text/plain": [
       "<Figure size 432x288 with 1 Axes>"
      ]
     },
     "metadata": {},
     "output_type": "display_data"
    }
   ],
   "source": [
    "# Let's change the RGB image (or BGR as said in OpenCV) to Grayscale\n",
    "im = cv2.cvtColor(im, cv2.COLOR_BGR2GRAY)\n",
    "# Now if you want to resize the image to 10x10 \n",
    "im = cv2.resize(im, (10,10))\n",
    "# Display the processed image\n",
    "plt.imshow(im)"
   ]
  },
  {
   "cell_type": "markdown",
   "metadata": {},
   "source": [
    "### Print the normalized pixel values\n",
    "Normalization can be done by dividing the pixel values by the higest number possible which in the case of images in 255.\n",
    "**Notice how matrix values printed below is exact representation of the image**\n",
    "- 0 -> Black\n",
    "- 1 -> White"
   ]
  },
  {
   "cell_type": "code",
   "execution_count": 8,
   "metadata": {},
   "outputs": [
    {
     "name": "stdout",
     "output_type": "stream",
     "text": [
      "[[1. 1. 1. 1. 1. 1. 1. 1. 1. 1.]\n",
      " [1. 1. 1. 1. 1. 1. 1. 1. 1. 1.]\n",
      " [1. 1. 1. 1. 0. 0. 1. 1. 1. 1.]\n",
      " [1. 1. 1. 0. 1. 1. 1. 1. 1. 1.]\n",
      " [1. 1. 1. 1. 1. 1. 1. 1. 1. 1.]\n",
      " [1. 1. 0. 1. 1. 1. 1. 1. 1. 1.]\n",
      " [1. 1. 1. 1. 1. 1. 1. 1. 1. 1.]\n",
      " [1. 1. 1. 0. 0. 0. 0. 1. 1. 1.]\n",
      " [1. 1. 1. 1. 1. 1. 1. 1. 1. 1.]\n",
      " [1. 1. 1. 1. 1. 1. 1. 1. 1. 1.]]\n"
     ]
    }
   ],
   "source": [
    "print(im/255)"
   ]
  },
  {
   "cell_type": "code",
   "execution_count": null,
   "metadata": {},
   "outputs": [],
   "source": []
  }
 ],
 "metadata": {
  "kernelspec": {
   "display_name": "Python 3",
   "language": "python",
   "name": "python3"
  },
  "language_info": {
   "codemirror_mode": {
    "name": "ipython",
    "version": 3
   },
   "file_extension": ".py",
   "mimetype": "text/x-python",
   "name": "python",
   "nbconvert_exporter": "python",
   "pygments_lexer": "ipython3",
   "version": "3.6.2"
  }
 },
 "nbformat": 4,
 "nbformat_minor": 2
}
